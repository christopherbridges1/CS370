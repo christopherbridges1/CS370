{
 "cells": [
  {
   "cell_type": "markdown",
   "metadata": {},
   "source": [
    "# Treasure Hunt Game Notebook\n",
    "\n",
    "## Read and Review Your Starter Code\n",
    "The theme of this project is a popular treasure hunt game in which the player needs to find the treasure before the pirate does. While you will not be developing the entire game, you will write the part of the game that represents the intelligent agent, which is a pirate in this case. The pirate will try to find the optimal path to the treasure using deep Q-learning. \n",
    "\n",
    "You have been provided with two Python classes and this notebook to help you with this assignment. The first class, TreasureMaze.py, represents the environment, which includes a maze object defined as a matrix. The second class, GameExperience.py, stores the episodes – that is, all the states that come in between the initial state and the terminal state. This is later used by the agent for learning by experience, called \"exploration\". This notebook shows how to play a game. Your task is to complete the deep Q-learning implementation for which a skeleton implementation has been provided. The code blocks you will need to complete has #TODO as a header.\n",
    "\n",
    "First, read and review the next few code and instruction blocks to understand the code that you have been given."
   ]
  },
  {
   "cell_type": "code",
   "metadata": {
    "ExecuteTime": {
     "end_time": "2025-10-19T13:24:33.176795Z",
     "start_time": "2025-10-19T13:24:32.184626Z"
    }
   },
   "source": [
    "#Install requirements\n",
    "!pip install -r requirements.txt"
   ],
   "outputs": [
    {
     "name": "stdout",
     "output_type": "stream",
     "text": [
      "Requirement already satisfied: numpy>=1.26.4 in c:\\users\\chris\\downloads\\pirate-intelligent-agent (2)\\.venv\\lib\\site-packages (from -r requirements.txt (line 1)) (2.3.4)\n",
      "Requirement already satisfied: keras in c:\\users\\chris\\downloads\\pirate-intelligent-agent (2)\\.venv\\lib\\site-packages (from -r requirements.txt (line 2)) (3.11.3)\n",
      "Requirement already satisfied: tensorflow>=2.19.0 in c:\\users\\chris\\downloads\\pirate-intelligent-agent (2)\\.venv\\lib\\site-packages (from -r requirements.txt (line 3)) (2.20.0)\n",
      "Requirement already satisfied: absl-py in c:\\users\\chris\\downloads\\pirate-intelligent-agent (2)\\.venv\\lib\\site-packages (from keras->-r requirements.txt (line 2)) (2.3.1)\n",
      "Requirement already satisfied: rich in c:\\users\\chris\\downloads\\pirate-intelligent-agent (2)\\.venv\\lib\\site-packages (from keras->-r requirements.txt (line 2)) (14.2.0)\n",
      "Requirement already satisfied: namex in c:\\users\\chris\\downloads\\pirate-intelligent-agent (2)\\.venv\\lib\\site-packages (from keras->-r requirements.txt (line 2)) (0.1.0)\n",
      "Requirement already satisfied: h5py in c:\\users\\chris\\downloads\\pirate-intelligent-agent (2)\\.venv\\lib\\site-packages (from keras->-r requirements.txt (line 2)) (3.15.0)\n",
      "Requirement already satisfied: optree in c:\\users\\chris\\downloads\\pirate-intelligent-agent (2)\\.venv\\lib\\site-packages (from keras->-r requirements.txt (line 2)) (0.17.0)\n",
      "Requirement already satisfied: ml-dtypes in c:\\users\\chris\\downloads\\pirate-intelligent-agent (2)\\.venv\\lib\\site-packages (from keras->-r requirements.txt (line 2)) (0.5.3)\n",
      "Requirement already satisfied: packaging in c:\\users\\chris\\downloads\\pirate-intelligent-agent (2)\\.venv\\lib\\site-packages (from keras->-r requirements.txt (line 2)) (25.0)\n",
      "Requirement already satisfied: astunparse>=1.6.0 in c:\\users\\chris\\downloads\\pirate-intelligent-agent (2)\\.venv\\lib\\site-packages (from tensorflow>=2.19.0->-r requirements.txt (line 3)) (1.6.3)\n",
      "Requirement already satisfied: flatbuffers>=24.3.25 in c:\\users\\chris\\downloads\\pirate-intelligent-agent (2)\\.venv\\lib\\site-packages (from tensorflow>=2.19.0->-r requirements.txt (line 3)) (25.9.23)\n",
      "Requirement already satisfied: gast!=0.5.0,!=0.5.1,!=0.5.2,>=0.2.1 in c:\\users\\chris\\downloads\\pirate-intelligent-agent (2)\\.venv\\lib\\site-packages (from tensorflow>=2.19.0->-r requirements.txt (line 3)) (0.6.0)\n",
      "Requirement already satisfied: google_pasta>=0.1.1 in c:\\users\\chris\\downloads\\pirate-intelligent-agent (2)\\.venv\\lib\\site-packages (from tensorflow>=2.19.0->-r requirements.txt (line 3)) (0.2.0)\n",
      "Requirement already satisfied: libclang>=13.0.0 in c:\\users\\chris\\downloads\\pirate-intelligent-agent (2)\\.venv\\lib\\site-packages (from tensorflow>=2.19.0->-r requirements.txt (line 3)) (18.1.1)\n",
      "Requirement already satisfied: opt_einsum>=2.3.2 in c:\\users\\chris\\downloads\\pirate-intelligent-agent (2)\\.venv\\lib\\site-packages (from tensorflow>=2.19.0->-r requirements.txt (line 3)) (3.4.0)\n",
      "Requirement already satisfied: protobuf>=5.28.0 in c:\\users\\chris\\downloads\\pirate-intelligent-agent (2)\\.venv\\lib\\site-packages (from tensorflow>=2.19.0->-r requirements.txt (line 3)) (6.33.0)\n",
      "Requirement already satisfied: requests<3,>=2.21.0 in c:\\users\\chris\\downloads\\pirate-intelligent-agent (2)\\.venv\\lib\\site-packages (from tensorflow>=2.19.0->-r requirements.txt (line 3)) (2.32.5)\n",
      "Requirement already satisfied: setuptools in c:\\users\\chris\\downloads\\pirate-intelligent-agent (2)\\.venv\\lib\\site-packages (from tensorflow>=2.19.0->-r requirements.txt (line 3)) (80.9.0)\n",
      "Requirement already satisfied: six>=1.12.0 in c:\\users\\chris\\downloads\\pirate-intelligent-agent (2)\\.venv\\lib\\site-packages (from tensorflow>=2.19.0->-r requirements.txt (line 3)) (1.17.0)\n",
      "Requirement already satisfied: termcolor>=1.1.0 in c:\\users\\chris\\downloads\\pirate-intelligent-agent (2)\\.venv\\lib\\site-packages (from tensorflow>=2.19.0->-r requirements.txt (line 3)) (3.1.0)\n",
      "Requirement already satisfied: typing_extensions>=3.6.6 in c:\\users\\chris\\downloads\\pirate-intelligent-agent (2)\\.venv\\lib\\site-packages (from tensorflow>=2.19.0->-r requirements.txt (line 3)) (4.15.0)\n",
      "Requirement already satisfied: wrapt>=1.11.0 in c:\\users\\chris\\downloads\\pirate-intelligent-agent (2)\\.venv\\lib\\site-packages (from tensorflow>=2.19.0->-r requirements.txt (line 3)) (1.17.3)\n",
      "Requirement already satisfied: grpcio<2.0,>=1.24.3 in c:\\users\\chris\\downloads\\pirate-intelligent-agent (2)\\.venv\\lib\\site-packages (from tensorflow>=2.19.0->-r requirements.txt (line 3)) (1.75.1)\n",
      "Requirement already satisfied: tensorboard~=2.20.0 in c:\\users\\chris\\downloads\\pirate-intelligent-agent (2)\\.venv\\lib\\site-packages (from tensorflow>=2.19.0->-r requirements.txt (line 3)) (2.20.0)\n",
      "Requirement already satisfied: charset_normalizer<4,>=2 in c:\\users\\chris\\downloads\\pirate-intelligent-agent (2)\\.venv\\lib\\site-packages (from requests<3,>=2.21.0->tensorflow>=2.19.0->-r requirements.txt (line 3)) (3.4.4)\n",
      "Requirement already satisfied: idna<4,>=2.5 in c:\\users\\chris\\downloads\\pirate-intelligent-agent (2)\\.venv\\lib\\site-packages (from requests<3,>=2.21.0->tensorflow>=2.19.0->-r requirements.txt (line 3)) (3.11)\n",
      "Requirement already satisfied: urllib3<3,>=1.21.1 in c:\\users\\chris\\downloads\\pirate-intelligent-agent (2)\\.venv\\lib\\site-packages (from requests<3,>=2.21.0->tensorflow>=2.19.0->-r requirements.txt (line 3)) (2.5.0)\n",
      "Requirement already satisfied: certifi>=2017.4.17 in c:\\users\\chris\\downloads\\pirate-intelligent-agent (2)\\.venv\\lib\\site-packages (from requests<3,>=2.21.0->tensorflow>=2.19.0->-r requirements.txt (line 3)) (2025.10.5)\n",
      "Requirement already satisfied: markdown>=2.6.8 in c:\\users\\chris\\downloads\\pirate-intelligent-agent (2)\\.venv\\lib\\site-packages (from tensorboard~=2.20.0->tensorflow>=2.19.0->-r requirements.txt (line 3)) (3.9)\n",
      "Requirement already satisfied: pillow in c:\\users\\chris\\downloads\\pirate-intelligent-agent (2)\\.venv\\lib\\site-packages (from tensorboard~=2.20.0->tensorflow>=2.19.0->-r requirements.txt (line 3)) (12.0.0)\n",
      "Requirement already satisfied: tensorboard-data-server<0.8.0,>=0.7.0 in c:\\users\\chris\\downloads\\pirate-intelligent-agent (2)\\.venv\\lib\\site-packages (from tensorboard~=2.20.0->tensorflow>=2.19.0->-r requirements.txt (line 3)) (0.7.2)\n",
      "Requirement already satisfied: werkzeug>=1.0.1 in c:\\users\\chris\\downloads\\pirate-intelligent-agent (2)\\.venv\\lib\\site-packages (from tensorboard~=2.20.0->tensorflow>=2.19.0->-r requirements.txt (line 3)) (3.1.3)\n",
      "Requirement already satisfied: wheel<1.0,>=0.23.0 in c:\\users\\chris\\downloads\\pirate-intelligent-agent (2)\\.venv\\lib\\site-packages (from astunparse>=1.6.0->tensorflow>=2.19.0->-r requirements.txt (line 3)) (0.45.1)\n",
      "Requirement already satisfied: MarkupSafe>=2.1.1 in c:\\users\\chris\\downloads\\pirate-intelligent-agent (2)\\.venv\\lib\\site-packages (from werkzeug>=1.0.1->tensorboard~=2.20.0->tensorflow>=2.19.0->-r requirements.txt (line 3)) (3.0.3)\n",
      "Requirement already satisfied: markdown-it-py>=2.2.0 in c:\\users\\chris\\downloads\\pirate-intelligent-agent (2)\\.venv\\lib\\site-packages (from rich->keras->-r requirements.txt (line 2)) (4.0.0)\n",
      "Requirement already satisfied: pygments<3.0.0,>=2.13.0 in c:\\users\\chris\\downloads\\pirate-intelligent-agent (2)\\.venv\\lib\\site-packages (from rich->keras->-r requirements.txt (line 2)) (2.19.2)\n",
      "Requirement already satisfied: mdurl~=0.1 in c:\\users\\chris\\downloads\\pirate-intelligent-agent (2)\\.venv\\lib\\site-packages (from markdown-it-py>=2.2.0->rich->keras->-r requirements.txt (line 2)) (0.1.2)\n"
     ]
    }
   ],
   "execution_count": 1
  },
  {
   "cell_type": "code",
   "metadata": {
    "ExecuteTime": {
     "end_time": "2025-10-19T13:24:34.990402Z",
     "start_time": "2025-10-19T13:24:33.181665Z"
    }
   },
   "source": [
    "from __future__ import print_function\n",
    "import os, sys, time, datetime, json, random\n",
    "import numpy as np\n",
    "import tensorflow as tf\n",
    "from tensorflow.keras.models import clone_model\n",
    "from keras.models import Sequential\n",
    "from keras.layers import Dense, Activation, PReLU\n",
    "from keras.optimizers import SGD , Adam, RMSprop\n",
    "import matplotlib.pyplot as plt\n",
    "from TreasureMaze import TreasureMaze\n",
    "from GameExperience import GameExperience\n",
    "%matplotlib inline\n"
   ],
   "outputs": [],
   "execution_count": 2
  },
  {
   "cell_type": "markdown",
   "metadata": {},
   "source": [
    "The following code block contains an 8x8 matrix that will be used as a maze object:"
   ]
  },
  {
   "cell_type": "code",
   "metadata": {
    "ExecuteTime": {
     "end_time": "2025-10-19T13:24:34.997726Z",
     "start_time": "2025-10-19T13:24:34.994944Z"
    }
   },
   "source": [
    "maze = np.array([\n",
    "    [ 1.,  0.,  1.,  1.,  1.,  1.,  1.,  1.],\n",
    "    [ 1.,  0.,  1.,  1.,  1.,  0.,  1.,  1.],\n",
    "    [ 1.,  1.,  1.,  1.,  0.,  1.,  0.,  1.],\n",
    "    [ 1.,  1.,  1.,  0.,  1.,  1.,  1.,  1.],\n",
    "    [ 1.,  1.,  0.,  1.,  1.,  1.,  1.,  1.],\n",
    "    [ 1.,  1.,  1.,  0.,  1.,  0.,  0.,  0.],\n",
    "    [ 1.,  1.,  1.,  0.,  1.,  1.,  1.,  1.],\n",
    "    [ 1.,  1.,  1.,  1.,  0.,  1.,  1.,  1.]\n",
    "])"
   ],
   "outputs": [],
   "execution_count": 3
  },
  {
   "cell_type": "markdown",
   "metadata": {},
   "source": [
    "This helper function allows a visual representation of the maze object:"
   ]
  },
  {
   "cell_type": "code",
   "metadata": {
    "ExecuteTime": {
     "end_time": "2025-10-19T13:24:35.005828Z",
     "start_time": "2025-10-19T13:24:35.002927Z"
    }
   },
   "source": [
    "def show(qmaze):\n",
    "    plt.grid('on')\n",
    "    nrows, ncols = qmaze.maze.shape\n",
    "    ax = plt.gca()\n",
    "    ax.set_xticks(np.arange(0.5, nrows, 1))\n",
    "    ax.set_yticks(np.arange(0.5, ncols, 1))\n",
    "    ax.set_xticklabels([])\n",
    "    ax.set_yticklabels([])\n",
    "    canvas = np.copy(qmaze.maze)\n",
    "    for row,col in qmaze.visited:\n",
    "        canvas[row,col] = 0.6\n",
    "    pirate_row, pirate_col, _ = qmaze.state\n",
    "    canvas[pirate_row, pirate_col] = 0.3   # pirate cell\n",
    "    canvas[nrows-1, ncols-1] = 0.9 # treasure cell\n",
    "    img = plt.imshow(canvas, interpolation='none', cmap='gray')\n",
    "    return img"
   ],
   "outputs": [],
   "execution_count": 4
  },
  {
   "cell_type": "markdown",
   "metadata": {},
   "source": [
    "The pirate agent can move in four directions: left, right, up, and down. \n",
    "\n",
    "While the agent primarily learns by experience through exploitation, often, the agent can choose to explore the environment to find previously undiscovered paths. This is called \"exploration\" and is defined by epsilon. This value is typically a lower value such as 0.1, which means for every ten attempts, the agent will attempt to learn by experience nine times and will randomly explore a new path one time. You are encouraged to try various values for the exploration factor and see how the algorithm performs."
   ]
  },
  {
   "cell_type": "code",
   "metadata": {
    "ExecuteTime": {
     "end_time": "2025-10-19T13:24:35.013991Z",
     "start_time": "2025-10-19T13:24:35.010678Z"
    }
   },
   "source": [
    "LEFT = 0\n",
    "UP = 1\n",
    "RIGHT = 2\n",
    "DOWN = 3\n",
    "\n",
    "\n",
    "# Exploration factor\n",
    "epsilon = 1.0\n",
    "epsilon_min = 0.05\n",
    "epsilon_decay = 0.995\n",
    "patience = 10\n",
    "\n",
    "# Actions dictionary\n",
    "actions_dict = {\n",
    "    LEFT: 'left',\n",
    "    UP: 'up',\n",
    "    RIGHT: 'right',\n",
    "    DOWN: 'down',\n",
    "}\n",
    "\n",
    "num_actions = len(actions_dict)\n"
   ],
   "outputs": [],
   "execution_count": 5
  },
  {
   "cell_type": "markdown",
   "metadata": {},
   "source": [
    "The sample code block and output below show creating a maze object and performing one action (DOWN), which returns the reward. The resulting updated environment is visualized."
   ]
  },
  {
   "cell_type": "code",
   "metadata": {
    "ExecuteTime": {
     "end_time": "2025-10-19T13:24:35.064858Z",
     "start_time": "2025-10-19T13:24:35.017492Z"
    }
   },
   "source": [
    "qmaze = TreasureMaze(maze)\n",
    "canvas, reward, game_over = qmaze.act(DOWN)\n",
    "print(\"reward=\", reward)\n",
    "show(qmaze)"
   ],
   "outputs": [
    {
     "name": "stdout",
     "output_type": "stream",
     "text": [
      "reward= -0.04\n"
     ]
    },
    {
     "data": {
      "text/plain": [
       "<matplotlib.image.AxesImage at 0x27c4fe674d0>"
      ]
     },
     "execution_count": 6,
     "metadata": {},
     "output_type": "execute_result"
    },
    {
     "data": {
      "text/plain": [
       "<Figure size 640x480 with 1 Axes>"
      ],
      "image/png": "[encoded data removed]"
     },
     "metadata": {},
     "output_type": "display_data"
    }
   ],
   "execution_count": 6
  },
  {
   "cell_type": "markdown",
   "metadata": {},
   "source": [
    "This function simulates a full game based on the provided trained model. The other parameters include the TreasureMaze object and the starting position of the pirate."
   ]
  },
  {
   "cell_type": "code",
   "metadata": {
    "ExecuteTime": {
     "end_time": "2025-10-19T13:24:35.077703Z",
     "start_time": "2025-10-19T13:24:35.074751Z"
    }
   },
   "source": [
    "def play_game(model, qmaze, pirate_cell, max_steps=None):\n",
    "    qmaze.reset(pirate_cell)\n",
    "    envstate = qmaze.observe()\n",
    "    steps = 0\n",
    "    if max_steps is None:\n",
    "        max_steps = qmaze.maze.size * 4  # safety cutoff\n",
    "\n",
    "    while steps < max_steps:\n",
    "        s = np.asarray(envstate, dtype=np.float32)\n",
    "        if s.ndim == 1:\n",
    "            s = np.expand_dims(s, axis=0)\n",
    "\n",
    "        q = model(s, training=False).numpy()[0]\n",
    "        valid = qmaze.valid_actions()\n",
    "        if valid:\n",
    "            mask = np.full_like(q, -1e9, dtype=np.float32)\n",
    "            mask[valid] = q[valid]\n",
    "            action = int(np.argmax(mask))\n",
    "        else:\n",
    "            action = int(np.argmax(q))\n",
    "\n",
    "        envstate, reward, status = qmaze.act(action)\n",
    "        if status == 'win':  return True\n",
    "        if status == 'lose': return False\n",
    "        steps += 1\n",
    "\n",
    "    return False  # timed out"
   ],
   "outputs": [],
   "execution_count": 7
  },
  {
   "cell_type": "markdown",
   "metadata": {},
   "source": [
    "This function helps you to determine whether the pirate can win any game at all. If your maze is not well designed, the pirate may not win any game at all. In this case, your training would not yield any result. The provided maze in this notebook ensures that there is a path to win and you can run this method to check."
   ]
  },
  {
   "cell_type": "code",
   "metadata": {
    "ExecuteTime": {
     "end_time": "2025-10-19T13:24:35.091780Z",
     "start_time": "2025-10-19T13:24:35.089463Z"
    }
   },
   "source": [
    "def completion_check(model, maze_or_qmaze, max_steps=None):\n",
    "    # Accept either raw numpy maze or TreasureMaze instance\n",
    "    if isinstance(maze_or_qmaze, TreasureMaze):\n",
    "        qmaze = maze_or_qmaze\n",
    "    else:\n",
    "        qmaze = TreasureMaze(maze_or_qmaze)\n",
    "\n",
    "    for cell in qmaze.free_cells:\n",
    "        if not qmaze.valid_actions(cell):\n",
    "            continue\n",
    "        if not play_game(model, qmaze, cell, max_steps=max_steps):\n",
    "            return False\n",
    "    return True"
   ],
   "outputs": [],
   "execution_count": 8
  },
  {
   "cell_type": "markdown",
   "metadata": {},
   "source": [
    "The code you have been given in this block will build the neural network model. Review the code and note the number of layers, as well as the activation, optimizer, and loss functions that are used to train the model."
   ]
  },
  {
   "cell_type": "code",
   "metadata": {
    "ExecuteTime": {
     "end_time": "2025-10-19T13:24:35.101883Z",
     "start_time": "2025-10-19T13:24:35.099255Z"
    }
   },
   "source": [
    "def build_model(maze):\n",
    "    model = Sequential()\n",
    "    model.add(Dense(maze.size, input_shape=(maze.size,)))\n",
    "    model.add(PReLU())\n",
    "    model.add(Dense(maze.size))\n",
    "    model.add(PReLU())\n",
    "    model.add(Dense(num_actions))\n",
    "    model.compile(optimizer='adam', loss='mse')\n",
    "    return model"
   ],
   "outputs": [],
   "execution_count": 9
  },
  {
   "cell_type": "code",
   "metadata": {
    "ExecuteTime": {
     "end_time": "2025-10-19T13:24:35.129689Z",
     "start_time": "2025-10-19T13:24:35.109977Z"
    }
   },
   "source": [
    "loss_fn = tf.keras.losses.MeanSquaredError()\n",
    "optimizer = tf.keras.optimizers.Adam()\n",
    "\n",
    "@tf.function\n",
    "def train_step(x, y):\n",
    "    with tf.GradientTape() as tape:\n",
    "        q_values = model(x, training=True)\n",
    "        loss = loss_fn(y, q_values)\n",
    "    grads = tape.gradient(loss, model.trainable_variables)\n",
    "    optimizer.apply_gradients(zip(grads, model.trainable_variables))\n",
    "    return loss"
   ],
   "outputs": [],
   "execution_count": 10
  },
  {
   "metadata": {},
   "cell_type": "markdown",
   "source": [
    "# #TODO: Complete the Q-Training Algorithm Code Block\n",
    "\n",
    "This is your deep Q-learning implementation. The goal of your deep Q-learning implementation is to find the best possible navigation sequence that results in reaching the treasure cell while maximizing the reward. In your implementation, you need to determine the optimal number of epochs to achieve a 100% win rate.\n",
    "\n",
    "You will need to complete the section starting with #pseudocode. The pseudocode has been included for you."
   ]
  },
  {
   "metadata": {
    "ExecuteTime": {
     "end_time": "2025-10-19T13:24:35.139889Z",
     "start_time": "2025-10-19T13:24:35.133876Z"
    }
   },
   "cell_type": "code",
   "source": [
    "def qtrain(model, maze, **opt):\n",
    "    import datetime, random\n",
    "    from tensorflow.keras.models import clone_model\n",
    "\n",
    "    # Format time helper function\n",
    "    def format_time_local(seconds):\n",
    "        if seconds < 400:\n",
    "            s = float(seconds)\n",
    "            return \"%.1f seconds\" % (s,)\n",
    "        elif seconds < 4000:\n",
    "            m = seconds / 60.0\n",
    "            return \"%.2f minutes\" % (m,)\n",
    "        else:\n",
    "            h = seconds / 3600.0\n",
    "            return \"%.2f hours\" % (h,)\n",
    "\n",
    "    # Global variables or default if missing\n",
    "    global epsilon, epsilon_min, epsilon_decay\n",
    "    try:\n",
    "        epsilon\n",
    "    except NameError:\n",
    "        epsilon = opt.get('epsilon', 1.0)\n",
    "    try:\n",
    "        epsilon_min\n",
    "    except NameError:\n",
    "        epsilon_min = opt.get('epsilon_min', 0.05)\n",
    "    try:\n",
    "        epsilon_decay\n",
    "    except NameError:\n",
    "        epsilon_decay = opt.get('epsilon_decay', 0.995)\n",
    "\n",
    "    # parameters\n",
    "    n_epoch            = opt.get('n_epoch', 15000)\n",
    "    max_memory         = opt.get('max_memory', 1000)\n",
    "    data_size          = opt.get('data_size', 50)\n",
    "    target_update_freq = opt.get('target_update_freq', 50)\n",
    "    max_steps_ep       = opt.get('max_steps_ep', None)\n",
    "\n",
    "    # Track training time\n",
    "    start_time = datetime.datetime.now()\n",
    "\n",
    "    # Initialize maze\n",
    "    qmaze = TreasureMaze(maze)\n",
    "\n",
    "    # Clones model for target network\n",
    "    target_model = clone_model(model)\n",
    "    target_model.set_weights(model.get_weights())\n",
    "\n",
    "    # Replay memory to store experiences\n",
    "    experience = GameExperience(model, target_model, max_memory=max_memory)\n",
    "\n",
    "    # Track performance\n",
    "    win_history = []\n",
    "    hsize = max(1, qmaze.maze.size // 2)\n",
    "    win_rate = 0.0\n",
    "\n",
    "    episodes_seen = 0\n",
    "    last_loss = 0.0\n",
    "\n",
    "    # mex episode step if none given\n",
    "    if max_steps_ep is None:\n",
    "        max_steps_ep = qmaze.maze.size * 4\n",
    "\n",
    "    # Training main function\n",
    "    for epoch in range(n_epoch):\n",
    "        # pick a random start cell\n",
    "        start_cell = random.choice(qmaze.free_cells)\n",
    "        while not qmaze.valid_actions(start_cell):\n",
    "            start_cell = random.choice(qmaze.free_cells)\n",
    "\n",
    "        # Environment reset for start\n",
    "        qmaze.reset(start_cell)\n",
    "        envstate = qmaze.observe()\n",
    "        game_over = False\n",
    "        steps = 0\n",
    "\n",
    "        # episode loop\n",
    "        while not game_over and steps < max_steps_ep:\n",
    "            state = np.asarray(envstate, dtype=np.float32)\n",
    "            if state.ndim == 1:\n",
    "                state = np.expand_dims(state, axis=0)\n",
    "\n",
    "            # Exploration, choose a random action\n",
    "            if np.random.rand() <= epsilon:\n",
    "                action = np.random.choice([LEFT, UP, RIGHT, DOWN])\n",
    "                valid = qmaze.valid_actions()\n",
    "                if valid:\n",
    "                    action = np.random.choice(valid)\n",
    "            else:\n",
    "                # Exploitation, use model to predict best action\n",
    "                q_vals = model(state, training=False).numpy()[0]\n",
    "                valid = qmaze.valid_actions()\n",
    "                if valid:\n",
    "                    # mask invalid actions so agent doesn't select invalid move\n",
    "                    mask = np.full_like(q_vals, -1e9, dtype=np.float32)\n",
    "                    mask[valid] = q_vals[valid]\n",
    "                    action = int(np.argmax(mask))\n",
    "                else:\n",
    "                    action = int(np.argmax(q_vals))\n",
    "\n",
    "            # step\n",
    "            envstate_next, reward, status = qmaze.act(action)\n",
    "            done = (status != 'not_over')\n",
    "\n",
    "            # store experience in memory\n",
    "            experience.remember([state.reshape(1, -1).astype(np.float32),\n",
    "                                 action,\n",
    "                                 reward,\n",
    "                                 envstate_next.astype(np.float32),\n",
    "                                 done])\n",
    "\n",
    "            # train from replay if enough samples\n",
    "            x, y = experience.get_data(batch_size=data_size)\n",
    "            if x.shape[0] > 0:\n",
    "                last_loss = float(model.train_on_batch(x, y))\n",
    "\n",
    "            # MOve to next state and continue\n",
    "            envstate = envstate_next\n",
    "            game_over = done\n",
    "            steps += 1\n",
    "\n",
    "        # End of episode and bookkeeping\n",
    "        episodes_seen += 1\n",
    "        win_history.append(1 if status == 'win' else 0)\n",
    "\n",
    "        # rolling win rate\n",
    "        window = win_history[-hsize:]\n",
    "        win_rate = sum(window) / float(len(window)) if window else 0.0\n",
    "\n",
    "        # Epsilon decay rate change after becoming better\n",
    "        epsilon = max(epsilon * epsilon_decay, epsilon_min) if win_rate <= 0.9 else epsilon_min\n",
    "\n",
    "        # Network sync for stability\n",
    "        if episodes_seen % target_update_freq == 0:\n",
    "            target_model.set_weights(model.get_weights())\n",
    "\n",
    "        # log\n",
    "        dt = datetime.datetime.now() - start_time\n",
    "        t = format_time_local(dt.total_seconds())\n",
    "        print(\"Epoch: {:05d}/{:d} | Loss: {:.4f} | Episodes: {:d} | Wins: {:d} | Win rate: {:.3f} | time: {}\".format(\n",
    "            epoch, n_epoch - 1, last_loss, episodes_seen, sum(win_history), win_rate, t))\n",
    "\n",
    "        # early stop after training complete\n",
    "        if win_rate >= 0.999 and completion_check(model, maze):\n",
    "            print(f\"Reached ~100% win rate at epoch {epoch}\")\n",
    "            break\n",
    "\n",
    "    total_time = format_time_local((datetime.datetime.now() - start_time).total_seconds())\n",
    "    print(\"Training complete in:\", total_time)\n"
   ],
   "outputs": [],
   "execution_count": 11
  },
  {
   "metadata": {},
   "cell_type": "markdown",
   "source": [
    "## Test Your Model\n",
    "\n",
    "Now we will start testing the deep Q-learning implementation. To begin, select **Cell**, then **Run All** from the menu bar. This will run your notebook. As it runs, you should see output begin to appear beneath the next few cells. The code below creates an instance of TreasureMaze."
   ]
  },
  {
   "metadata": {
    "ExecuteTime": {
     "end_time": "2025-10-19T13:24:35.189789Z",
     "start_time": "2025-10-19T13:24:35.145271Z"
    }
   },
   "cell_type": "code",
   "source": [
    "qmaze = TreasureMaze(maze)\n",
    "show(qmaze)"
   ],
   "outputs": [
    {
     "data": {
      "text/plain": [
       "<matplotlib.image.AxesImage at 0x27c4ff9c690>"
      ]
     },
     "execution_count": 12,
     "metadata": {},
     "output_type": "execute_result"
    },
    {
     "data": {
      "text/plain": [
       "<Figure size 640x480 with 1 Axes>"
      ],
      "image/png": "[encoded data removed]"
     },
     "metadata": {},
     "output_type": "display_data"
    }
   ],
   "execution_count": 12
  },
  {
   "metadata": {},
   "cell_type": "markdown",
   "source": "In the next code block, you will build your model and train it using deep Q-learning. Note: This step takes several minutes to fully run."
  },
  {
   "metadata": {
    "ExecuteTime": {
     "end_time": "2025-10-19T13:26:04.995315Z",
     "start_time": "2025-10-19T13:24:35.198107Z"
    }
   },
   "cell_type": "code",
   "source": [
    "model = build_model(maze)\n",
    "qtrain(model, maze, n_epoch=1000, max_memory=8*maze.size, data_size=32, target_update_freq=50)"
   ],
   "outputs": [
    {
     "name": "stderr",
     "output_type": "stream",
     "text": [
      "C:\\Users\\chris\\Downloads\\pirate-intelligent-agent (2)\\.venv\\Lib\\site-packages\\keras\\src\\layers\\core\\dense.py:92: UserWarning: Do not pass an `input_shape`/`input_dim` argument to a layer. When using Sequential models, prefer using an `Input(shape)` object as the first layer in the model instead.\n",
      "  super().__init__(activity_regularizer=activity_regularizer, **kwargs)\n"
     ]
    },
    {
     "name": "stdout",
     "output_type": "stream",
     "text": [
      "Epoch: 00000/999 | Loss: 0.0025 | Episodes: 1 | Wins: 0 | Win rate: 0.000 | time: 1.2 seconds\n",
      "Epoch: 00001/999 | Loss: 0.0023 | Episodes: 2 | Wins: 0 | Win rate: 0.000 | time: 1.9 seconds\n",
      "Epoch: 00002/999 | Loss: 0.0022 | Episodes: 3 | Wins: 0 | Win rate: 0.000 | time: 2.7 seconds\n",
      "Epoch: 00003/999 | Loss: 0.0022 | Episodes: 4 | Wins: 0 | Win rate: 0.000 | time: 3.3 seconds\n",
      "Epoch: 00004/999 | Loss: 0.0022 | Episodes: 5 | Wins: 0 | Win rate: 0.000 | time: 4.0 seconds\n",
      "Epoch: 00005/999 | Loss: 0.0021 | Episodes: 6 | Wins: 0 | Win rate: 0.000 | time: 4.6 seconds\n",
      "Epoch: 00006/999 | Loss: 0.0021 | Episodes: 7 | Wins: 1 | Win rate: 0.143 | time: 5.0 seconds\n",
      "Epoch: 00007/999 | Loss: 0.0021 | Episodes: 8 | Wins: 1 | Win rate: 0.125 | time: 5.7 seconds\n",
      "Epoch: 00008/999 | Loss: 0.0021 | Episodes: 9 | Wins: 2 | Win rate: 0.222 | time: 5.7 seconds\n",
      "Epoch: 00009/999 | Loss: 0.0022 | Episodes: 10 | Wins: 2 | Win rate: 0.200 | time: 6.4 seconds\n",
      "Epoch: 00010/999 | Loss: 0.0022 | Episodes: 11 | Wins: 2 | Win rate: 0.182 | time: 7.0 seconds\n",
      "Epoch: 00011/999 | Loss: 0.0022 | Episodes: 12 | Wins: 2 | Win rate: 0.167 | time: 7.7 seconds\n",
      "Epoch: 00012/999 | Loss: 0.0022 | Episodes: 13 | Wins: 2 | Win rate: 0.154 | time: 8.4 seconds\n",
      "Epoch: 00013/999 | Loss: 0.0022 | Episodes: 14 | Wins: 2 | Win rate: 0.143 | time: 9.1 seconds\n",
      "Epoch: 00014/999 | Loss: 0.0022 | Episodes: 15 | Wins: 3 | Win rate: 0.200 | time: 9.1 seconds\n",
      "Epoch: 00015/999 | Loss: 0.0022 | Episodes: 16 | Wins: 4 | Win rate: 0.250 | time: 9.3 seconds\n",
      "Epoch: 00016/999 | Loss: 0.0022 | Episodes: 17 | Wins: 4 | Win rate: 0.235 | time: 9.9 seconds\n",
      "Epoch: 00017/999 | Loss: 0.0023 | Episodes: 18 | Wins: 4 | Win rate: 0.222 | time: 10.6 seconds\n",
      "Epoch: 00018/999 | Loss: 0.0023 | Episodes: 19 | Wins: 5 | Win rate: 0.263 | time: 10.6 seconds\n",
      "Epoch: 00019/999 | Loss: 0.0023 | Episodes: 20 | Wins: 6 | Win rate: 0.300 | time: 10.7 seconds\n",
      "Epoch: 00020/999 | Loss: 0.0023 | Episodes: 21 | Wins: 6 | Win rate: 0.286 | time: 11.4 seconds\n",
      "Epoch: 00021/999 | Loss: 0.0024 | Episodes: 22 | Wins: 6 | Win rate: 0.273 | time: 12.1 seconds\n",
      "Epoch: 00022/999 | Loss: 0.0024 | Episodes: 23 | Wins: 6 | Win rate: 0.261 | time: 12.7 seconds\n",
      "Epoch: 00023/999 | Loss: 0.0023 | Episodes: 24 | Wins: 6 | Win rate: 0.250 | time: 13.4 seconds\n",
      "Epoch: 00024/999 | Loss: 0.0023 | Episodes: 25 | Wins: 7 | Win rate: 0.280 | time: 13.6 seconds\n",
      "Epoch: 00025/999 | Loss: 0.0023 | Episodes: 26 | Wins: 7 | Win rate: 0.269 | time: 14.3 seconds\n",
      "Epoch: 00026/999 | Loss: 0.0023 | Episodes: 27 | Wins: 7 | Win rate: 0.259 | time: 14.9 seconds\n",
      "Epoch: 00027/999 | Loss: 0.0023 | Episodes: 28 | Wins: 7 | Win rate: 0.250 | time: 15.6 seconds\n",
      "Epoch: 00028/999 | Loss: 0.0023 | Episodes: 29 | Wins: 7 | Win rate: 0.241 | time: 16.3 seconds\n",
      "Epoch: 00029/999 | Loss: 0.0022 | Episodes: 30 | Wins: 7 | Win rate: 0.233 | time: 17.0 seconds\n",
      "Epoch: 00030/999 | Loss: 0.0022 | Episodes: 31 | Wins: 8 | Win rate: 0.258 | time: 17.1 seconds\n",
      "Epoch: 00031/999 | Loss: 0.0022 | Episodes: 32 | Wins: 9 | Win rate: 0.281 | time: 17.9 seconds\n",
      "Epoch: 00032/999 | Loss: 0.0022 | Episodes: 33 | Wins: 9 | Win rate: 0.281 | time: 18.6 seconds\n",
      "Epoch: 00033/999 | Loss: 0.0023 | Episodes: 34 | Wins: 9 | Win rate: 0.281 | time: 19.3 seconds\n",
      "Epoch: 00034/999 | Loss: 0.0023 | Episodes: 35 | Wins: 9 | Win rate: 0.281 | time: 20.0 seconds\n",
      "Epoch: 00035/999 | Loss: 0.0023 | Episodes: 36 | Wins: 10 | Win rate: 0.312 | time: 20.0 seconds\n",
      "Epoch: 00036/999 | Loss: 0.0022 | Episodes: 37 | Wins: 10 | Win rate: 0.312 | time: 20.7 seconds\n",
      "Epoch: 00037/999 | Loss: 0.0022 | Episodes: 38 | Wins: 11 | Win rate: 0.344 | time: 21.4 seconds\n",
      "Epoch: 00038/999 | Loss: 0.0022 | Episodes: 39 | Wins: 11 | Win rate: 0.312 | time: 22.1 seconds\n",
      "Epoch: 00039/999 | Loss: 0.0022 | Episodes: 40 | Wins: 11 | Win rate: 0.312 | time: 22.8 seconds\n",
      "Epoch: 00040/999 | Loss: 0.0022 | Episodes: 41 | Wins: 11 | Win rate: 0.281 | time: 23.5 seconds\n",
      "Epoch: 00041/999 | Loss: 0.0022 | Episodes: 42 | Wins: 12 | Win rate: 0.312 | time: 23.5 seconds\n",
      "Epoch: 00042/999 | Loss: 0.0022 | Episodes: 43 | Wins: 12 | Win rate: 0.312 | time: 24.2 seconds\n",
      "Epoch: 00043/999 | Loss: 0.0022 | Episodes: 44 | Wins: 12 | Win rate: 0.312 | time: 24.9 seconds\n",
      "Epoch: 00044/999 | Loss: 0.0022 | Episodes: 45 | Wins: 12 | Win rate: 0.312 | time: 25.6 seconds\n",
      "Epoch: 00045/999 | Loss: 0.0022 | Episodes: 46 | Wins: 12 | Win rate: 0.312 | time: 26.3 seconds\n",
      "Epoch: 00046/999 | Loss: 0.0022 | Episodes: 47 | Wins: 12 | Win rate: 0.281 | time: 27.0 seconds\n",
      "Epoch: 00047/999 | Loss: 0.0022 | Episodes: 48 | Wins: 13 | Win rate: 0.281 | time: 27.3 seconds\n",
      "Epoch: 00048/999 | Loss: 0.0022 | Episodes: 49 | Wins: 14 | Win rate: 0.312 | time: 27.5 seconds\n",
      "Epoch: 00049/999 | Loss: 0.0022 | Episodes: 50 | Wins: 15 | Win rate: 0.344 | time: 27.7 seconds\n",
      "Epoch: 00050/999 | Loss: 0.0022 | Episodes: 51 | Wins: 16 | Win rate: 0.344 | time: 27.7 seconds\n",
      "Epoch: 00051/999 | Loss: 0.0022 | Episodes: 52 | Wins: 17 | Win rate: 0.344 | time: 27.8 seconds\n",
      "Epoch: 00052/999 | Loss: 0.0022 | Episodes: 53 | Wins: 18 | Win rate: 0.375 | time: 27.9 seconds\n",
      "Epoch: 00053/999 | Loss: 0.0022 | Episodes: 54 | Wins: 18 | Win rate: 0.375 | time: 28.6 seconds\n",
      "Epoch: 00054/999 | Loss: 0.0022 | Episodes: 55 | Wins: 18 | Win rate: 0.375 | time: 29.3 seconds\n",
      "Epoch: 00055/999 | Loss: 0.0022 | Episodes: 56 | Wins: 18 | Win rate: 0.375 | time: 30.0 seconds\n",
      "Epoch: 00056/999 | Loss: 0.0022 | Episodes: 57 | Wins: 19 | Win rate: 0.375 | time: 30.3 seconds\n",
      "Epoch: 00057/999 | Loss: 0.0022 | Episodes: 58 | Wins: 20 | Win rate: 0.406 | time: 30.9 seconds\n",
      "Epoch: 00058/999 | Loss: 0.0022 | Episodes: 59 | Wins: 20 | Win rate: 0.406 | time: 31.7 seconds\n",
      "Epoch: 00059/999 | Loss: 0.0022 | Episodes: 60 | Wins: 21 | Win rate: 0.438 | time: 31.8 seconds\n",
      "Epoch: 00060/999 | Loss: 0.0022 | Episodes: 61 | Wins: 22 | Win rate: 0.469 | time: 31.9 seconds\n",
      "Epoch: 00061/999 | Loss: 0.0022 | Episodes: 62 | Wins: 23 | Win rate: 0.500 | time: 32.2 seconds\n",
      "Epoch: 00062/999 | Loss: 0.0022 | Episodes: 63 | Wins: 23 | Win rate: 0.469 | time: 32.9 seconds\n",
      "Epoch: 00063/999 | Loss: 0.0022 | Episodes: 64 | Wins: 23 | Win rate: 0.438 | time: 33.7 seconds\n",
      "Epoch: 00064/999 | Loss: 0.0022 | Episodes: 65 | Wins: 23 | Win rate: 0.438 | time: 34.5 seconds\n",
      "Epoch: 00065/999 | Loss: 0.0022 | Episodes: 66 | Wins: 23 | Win rate: 0.438 | time: 35.3 seconds\n",
      "Epoch: 00066/999 | Loss: 0.0022 | Episodes: 67 | Wins: 24 | Win rate: 0.469 | time: 36.1 seconds\n",
      "Epoch: 00067/999 | Loss: 0.0022 | Episodes: 68 | Wins: 25 | Win rate: 0.469 | time: 36.1 seconds\n",
      "Epoch: 00068/999 | Loss: 0.0022 | Episodes: 69 | Wins: 25 | Win rate: 0.469 | time: 37.0 seconds\n",
      "Epoch: 00069/999 | Loss: 0.0022 | Episodes: 70 | Wins: 26 | Win rate: 0.469 | time: 37.2 seconds\n",
      "Epoch: 00070/999 | Loss: 0.0022 | Episodes: 71 | Wins: 26 | Win rate: 0.469 | time: 38.2 seconds\n",
      "Epoch: 00071/999 | Loss: 0.0022 | Episodes: 72 | Wins: 27 | Win rate: 0.500 | time: 38.8 seconds\n",
      "Epoch: 00072/999 | Loss: 0.0022 | Episodes: 73 | Wins: 28 | Win rate: 0.531 | time: 39.3 seconds\n",
      "Epoch: 00073/999 | Loss: 0.0022 | Episodes: 74 | Wins: 29 | Win rate: 0.531 | time: 39.3 seconds\n",
      "Epoch: 00074/999 | Loss: 0.0022 | Episodes: 75 | Wins: 30 | Win rate: 0.562 | time: 39.4 seconds\n",
      "Epoch: 00075/999 | Loss: 0.0022 | Episodes: 76 | Wins: 30 | Win rate: 0.562 | time: 40.1 seconds\n",
      "Epoch: 00076/999 | Loss: 0.0022 | Episodes: 77 | Wins: 30 | Win rate: 0.562 | time: 40.9 seconds\n",
      "Epoch: 00077/999 | Loss: 0.0022 | Episodes: 78 | Wins: 30 | Win rate: 0.562 | time: 41.7 seconds\n",
      "Epoch: 00078/999 | Loss: 0.0022 | Episodes: 79 | Wins: 30 | Win rate: 0.562 | time: 42.5 seconds\n",
      "Epoch: 00079/999 | Loss: 0.0022 | Episodes: 80 | Wins: 31 | Win rate: 0.562 | time: 42.6 seconds\n",
      "Epoch: 00080/999 | Loss: 0.0022 | Episodes: 81 | Wins: 32 | Win rate: 0.562 | time: 43.1 seconds\n",
      "Epoch: 00081/999 | Loss: 0.0022 | Episodes: 82 | Wins: 32 | Win rate: 0.531 | time: 43.9 seconds\n",
      "Epoch: 00082/999 | Loss: 0.0022 | Episodes: 83 | Wins: 33 | Win rate: 0.531 | time: 44.5 seconds\n",
      "Epoch: 00083/999 | Loss: 0.0022 | Episodes: 84 | Wins: 33 | Win rate: 0.500 | time: 45.3 seconds\n",
      "Epoch: 00084/999 | Loss: 0.0022 | Episodes: 85 | Wins: 34 | Win rate: 0.500 | time: 45.6 seconds\n",
      "Epoch: 00085/999 | Loss: 0.0022 | Episodes: 86 | Wins: 35 | Win rate: 0.531 | time: 46.0 seconds\n",
      "Epoch: 00086/999 | Loss: 0.0022 | Episodes: 87 | Wins: 35 | Win rate: 0.531 | time: 46.9 seconds\n",
      "Epoch: 00087/999 | Loss: 0.0022 | Episodes: 88 | Wins: 36 | Win rate: 0.562 | time: 47.0 seconds\n",
      "Epoch: 00088/999 | Loss: 0.0022 | Episodes: 89 | Wins: 37 | Win rate: 0.562 | time: 47.6 seconds\n",
      "Epoch: 00089/999 | Loss: 0.0022 | Episodes: 90 | Wins: 38 | Win rate: 0.562 | time: 47.8 seconds\n",
      "Epoch: 00090/999 | Loss: 0.0022 | Episodes: 91 | Wins: 38 | Win rate: 0.562 | time: 48.7 seconds\n",
      "Epoch: 00091/999 | Loss: 0.0022 | Episodes: 92 | Wins: 39 | Win rate: 0.562 | time: 48.8 seconds\n",
      "Epoch: 00092/999 | Loss: 0.0022 | Episodes: 93 | Wins: 40 | Win rate: 0.562 | time: 49.0 seconds\n",
      "Epoch: 00093/999 | Loss: 0.0022 | Episodes: 94 | Wins: 41 | Win rate: 0.562 | time: 49.8 seconds\n",
      "Epoch: 00094/999 | Loss: 0.0022 | Episodes: 95 | Wins: 41 | Win rate: 0.562 | time: 50.6 seconds\n",
      "Epoch: 00095/999 | Loss: 0.0022 | Episodes: 96 | Wins: 41 | Win rate: 0.562 | time: 51.4 seconds\n",
      "Epoch: 00096/999 | Loss: 0.0022 | Episodes: 97 | Wins: 42 | Win rate: 0.594 | time: 51.5 seconds\n",
      "Epoch: 00097/999 | Loss: 0.0022 | Episodes: 98 | Wins: 43 | Win rate: 0.625 | time: 51.6 seconds\n",
      "Epoch: 00098/999 | Loss: 0.0022 | Episodes: 99 | Wins: 44 | Win rate: 0.625 | time: 51.6 seconds\n",
      "Epoch: 00099/999 | Loss: 0.0022 | Episodes: 100 | Wins: 44 | Win rate: 0.594 | time: 52.5 seconds\n",
      "Epoch: 00100/999 | Loss: 0.0022 | Episodes: 101 | Wins: 44 | Win rate: 0.594 | time: 53.3 seconds\n",
      "Epoch: 00101/999 | Loss: 0.0022 | Episodes: 102 | Wins: 45 | Win rate: 0.594 | time: 53.7 seconds\n",
      "Epoch: 00102/999 | Loss: 0.0022 | Episodes: 103 | Wins: 46 | Win rate: 0.625 | time: 54.5 seconds\n",
      "Epoch: 00103/999 | Loss: 0.0022 | Episodes: 104 | Wins: 47 | Win rate: 0.625 | time: 55.4 seconds\n",
      "Epoch: 00104/999 | Loss: 0.0022 | Episodes: 105 | Wins: 48 | Win rate: 0.625 | time: 56.0 seconds\n",
      "Epoch: 00105/999 | Loss: 0.0022 | Episodes: 106 | Wins: 48 | Win rate: 0.594 | time: 56.8 seconds\n",
      "Epoch: 00106/999 | Loss: 0.0022 | Episodes: 107 | Wins: 49 | Win rate: 0.594 | time: 57.8 seconds\n",
      "Epoch: 00107/999 | Loss: 0.0022 | Episodes: 108 | Wins: 50 | Win rate: 0.625 | time: 57.8 seconds\n",
      "Epoch: 00108/999 | Loss: 0.0022 | Episodes: 109 | Wins: 51 | Win rate: 0.656 | time: 58.1 seconds\n",
      "Epoch: 00109/999 | Loss: 0.0022 | Episodes: 110 | Wins: 52 | Win rate: 0.688 | time: 58.3 seconds\n",
      "Epoch: 00110/999 | Loss: 0.0022 | Episodes: 111 | Wins: 53 | Win rate: 0.719 | time: 58.9 seconds\n",
      "Epoch: 00111/999 | Loss: 0.0022 | Episodes: 112 | Wins: 54 | Win rate: 0.719 | time: 59.0 seconds\n",
      "Epoch: 00112/999 | Loss: 0.0022 | Episodes: 113 | Wins: 55 | Win rate: 0.719 | time: 59.4 seconds\n",
      "Epoch: 00113/999 | Loss: 0.0022 | Episodes: 114 | Wins: 55 | Win rate: 0.719 | time: 60.3 seconds\n",
      "Epoch: 00114/999 | Loss: 0.0022 | Episodes: 115 | Wins: 56 | Win rate: 0.719 | time: 61.0 seconds\n",
      "Epoch: 00115/999 | Loss: 0.0022 | Episodes: 116 | Wins: 57 | Win rate: 0.750 | time: 61.3 seconds\n",
      "Epoch: 00116/999 | Loss: 0.0022 | Episodes: 117 | Wins: 58 | Win rate: 0.750 | time: 61.4 seconds\n",
      "Epoch: 00117/999 | Loss: 0.0022 | Episodes: 118 | Wins: 59 | Win rate: 0.750 | time: 62.3 seconds\n",
      "Epoch: 00118/999 | Loss: 0.0022 | Episodes: 119 | Wins: 60 | Win rate: 0.781 | time: 62.5 seconds\n",
      "Epoch: 00119/999 | Loss: 0.0022 | Episodes: 120 | Wins: 61 | Win rate: 0.781 | time: 63.0 seconds\n",
      "Epoch: 00120/999 | Loss: 0.0022 | Episodes: 121 | Wins: 62 | Win rate: 0.781 | time: 63.0 seconds\n",
      "Epoch: 00121/999 | Loss: 0.0022 | Episodes: 122 | Wins: 63 | Win rate: 0.781 | time: 63.0 seconds\n",
      "Epoch: 00122/999 | Loss: 0.0022 | Episodes: 123 | Wins: 64 | Win rate: 0.812 | time: 63.2 seconds\n",
      "Epoch: 00123/999 | Loss: 0.0022 | Episodes: 124 | Wins: 65 | Win rate: 0.812 | time: 63.3 seconds\n",
      "Epoch: 00124/999 | Loss: 0.0022 | Episodes: 125 | Wins: 66 | Win rate: 0.812 | time: 63.9 seconds\n",
      "Epoch: 00125/999 | Loss: 0.0022 | Episodes: 126 | Wins: 67 | Win rate: 0.812 | time: 64.8 seconds\n",
      "Epoch: 00126/999 | Loss: 0.0022 | Episodes: 127 | Wins: 68 | Win rate: 0.844 | time: 65.1 seconds\n",
      "Epoch: 00127/999 | Loss: 0.0022 | Episodes: 128 | Wins: 69 | Win rate: 0.875 | time: 65.2 seconds\n",
      "Epoch: 00128/999 | Loss: 0.0022 | Episodes: 129 | Wins: 70 | Win rate: 0.875 | time: 66.0 seconds\n",
      "Epoch: 00129/999 | Loss: 0.0022 | Episodes: 130 | Wins: 71 | Win rate: 0.875 | time: 66.2 seconds\n",
      "Epoch: 00130/999 | Loss: 0.0022 | Episodes: 131 | Wins: 72 | Win rate: 0.875 | time: 66.3 seconds\n",
      "Epoch: 00131/999 | Loss: 0.0022 | Episodes: 132 | Wins: 73 | Win rate: 0.906 | time: 66.4 seconds\n",
      "Epoch: 00132/999 | Loss: 0.0022 | Episodes: 133 | Wins: 74 | Win rate: 0.938 | time: 66.4 seconds\n",
      "Epoch: 00133/999 | Loss: 0.0022 | Episodes: 134 | Wins: 75 | Win rate: 0.938 | time: 66.9 seconds\n",
      "Epoch: 00134/999 | Loss: 0.0022 | Episodes: 135 | Wins: 76 | Win rate: 0.938 | time: 67.2 seconds\n",
      "Epoch: 00135/999 | Loss: 0.0022 | Episodes: 136 | Wins: 77 | Win rate: 0.938 | time: 67.2 seconds\n",
      "Epoch: 00136/999 | Loss: 0.0022 | Episodes: 137 | Wins: 78 | Win rate: 0.938 | time: 67.2 seconds\n",
      "Epoch: 00137/999 | Loss: 0.0022 | Episodes: 138 | Wins: 78 | Win rate: 0.938 | time: 68.2 seconds\n",
      "Epoch: 00138/999 | Loss: 0.0022 | Episodes: 139 | Wins: 79 | Win rate: 0.938 | time: 69.3 seconds\n",
      "Epoch: 00139/999 | Loss: 0.0022 | Episodes: 140 | Wins: 80 | Win rate: 0.938 | time: 69.7 seconds\n",
      "Epoch: 00140/999 | Loss: 0.0022 | Episodes: 141 | Wins: 81 | Win rate: 0.938 | time: 69.9 seconds\n",
      "Epoch: 00141/999 | Loss: 0.0022 | Episodes: 142 | Wins: 82 | Win rate: 0.938 | time: 70.0 seconds\n",
      "Epoch: 00142/999 | Loss: 0.0022 | Episodes: 143 | Wins: 83 | Win rate: 0.938 | time: 70.2 seconds\n",
      "Epoch: 00143/999 | Loss: 0.0022 | Episodes: 144 | Wins: 84 | Win rate: 0.938 | time: 70.3 seconds\n",
      "Epoch: 00144/999 | Loss: 0.0022 | Episodes: 145 | Wins: 85 | Win rate: 0.938 | time: 70.3 seconds\n",
      "Epoch: 00145/999 | Loss: 0.0022 | Episodes: 146 | Wins: 86 | Win rate: 0.969 | time: 70.5 seconds\n",
      "Epoch: 00146/999 | Loss: 0.0022 | Episodes: 147 | Wins: 87 | Win rate: 0.969 | time: 70.6 seconds\n",
      "Epoch: 00147/999 | Loss: 0.0022 | Episodes: 148 | Wins: 88 | Win rate: 0.969 | time: 70.8 seconds\n",
      "Epoch: 00148/999 | Loss: 0.0022 | Episodes: 149 | Wins: 89 | Win rate: 0.969 | time: 71.1 seconds\n",
      "Epoch: 00149/999 | Loss: 0.0022 | Episodes: 150 | Wins: 90 | Win rate: 0.969 | time: 71.4 seconds\n",
      "Epoch: 00150/999 | Loss: 0.0022 | Episodes: 151 | Wins: 91 | Win rate: 0.969 | time: 71.6 seconds\n",
      "Epoch: 00151/999 | Loss: 0.0022 | Episodes: 152 | Wins: 92 | Win rate: 0.969 | time: 71.8 seconds\n",
      "Epoch: 00152/999 | Loss: 0.0022 | Episodes: 153 | Wins: 93 | Win rate: 0.969 | time: 71.8 seconds\n",
      "Epoch: 00153/999 | Loss: 0.0022 | Episodes: 154 | Wins: 94 | Win rate: 0.969 | time: 72.0 seconds\n",
      "Epoch: 00154/999 | Loss: 0.0022 | Episodes: 155 | Wins: 95 | Win rate: 0.969 | time: 72.0 seconds\n",
      "Epoch: 00155/999 | Loss: 0.0022 | Episodes: 156 | Wins: 96 | Win rate: 0.969 | time: 72.1 seconds\n",
      "Epoch: 00156/999 | Loss: 0.0022 | Episodes: 157 | Wins: 97 | Win rate: 0.969 | time: 72.4 seconds\n",
      "Epoch: 00157/999 | Loss: 0.0022 | Episodes: 158 | Wins: 98 | Win rate: 0.969 | time: 72.6 seconds\n",
      "Epoch: 00158/999 | Loss: 0.0022 | Episodes: 159 | Wins: 99 | Win rate: 0.969 | time: 72.7 seconds\n",
      "Epoch: 00159/999 | Loss: 0.0022 | Episodes: 160 | Wins: 100 | Win rate: 0.969 | time: 72.9 seconds\n",
      "Epoch: 00160/999 | Loss: 0.0022 | Episodes: 161 | Wins: 101 | Win rate: 0.969 | time: 72.9 seconds\n",
      "Epoch: 00161/999 | Loss: 0.0022 | Episodes: 162 | Wins: 102 | Win rate: 0.969 | time: 73.2 seconds\n",
      "Epoch: 00162/999 | Loss: 0.0022 | Episodes: 163 | Wins: 103 | Win rate: 0.969 | time: 73.2 seconds\n",
      "Epoch: 00163/999 | Loss: 0.0022 | Episodes: 164 | Wins: 104 | Win rate: 0.969 | time: 73.4 seconds\n",
      "Epoch: 00164/999 | Loss: 0.0022 | Episodes: 165 | Wins: 105 | Win rate: 0.969 | time: 73.8 seconds\n",
      "Epoch: 00165/999 | Loss: 0.0022 | Episodes: 166 | Wins: 106 | Win rate: 0.969 | time: 73.8 seconds\n",
      "Epoch: 00166/999 | Loss: 0.0022 | Episodes: 167 | Wins: 107 | Win rate: 0.969 | time: 74.1 seconds\n",
      "Epoch: 00167/999 | Loss: 0.0022 | Episodes: 168 | Wins: 108 | Win rate: 0.969 | time: 74.3 seconds\n",
      "Epoch: 00168/999 | Loss: 0.0022 | Episodes: 169 | Wins: 109 | Win rate: 0.969 | time: 74.4 seconds\n",
      "Epoch: 00169/999 | Loss: 0.0022 | Episodes: 170 | Wins: 110 | Win rate: 1.000 | time: 74.7 seconds\n",
      "Epoch: 00170/999 | Loss: 0.0022 | Episodes: 171 | Wins: 111 | Win rate: 1.000 | time: 75.2 seconds\n",
      "Epoch: 00171/999 | Loss: 0.0022 | Episodes: 172 | Wins: 112 | Win rate: 1.000 | time: 76.3 seconds\n",
      "Epoch: 00172/999 | Loss: 0.0022 | Episodes: 173 | Wins: 113 | Win rate: 1.000 | time: 76.5 seconds\n",
      "Epoch: 00173/999 | Loss: 0.0022 | Episodes: 174 | Wins: 114 | Win rate: 1.000 | time: 77.7 seconds\n",
      "Epoch: 00174/999 | Loss: 0.0022 | Episodes: 175 | Wins: 115 | Win rate: 1.000 | time: 78.8 seconds\n",
      "Epoch: 00175/999 | Loss: 0.0022 | Episodes: 176 | Wins: 116 | Win rate: 1.000 | time: 79.3 seconds\n",
      "Epoch: 00176/999 | Loss: 0.0022 | Episodes: 177 | Wins: 117 | Win rate: 1.000 | time: 79.8 seconds\n",
      "Epoch: 00177/999 | Loss: 0.0022 | Episodes: 178 | Wins: 118 | Win rate: 1.000 | time: 80.9 seconds\n",
      "Epoch: 00178/999 | Loss: 0.0022 | Episodes: 179 | Wins: 119 | Win rate: 1.000 | time: 82.7 seconds\n",
      "Epoch: 00179/999 | Loss: 0.0022 | Episodes: 180 | Wins: 120 | Win rate: 1.000 | time: 84.2 seconds\n",
      "Epoch: 00180/999 | Loss: 0.0022 | Episodes: 181 | Wins: 121 | Win rate: 1.000 | time: 84.6 seconds\n",
      "Epoch: 00181/999 | Loss: 0.0022 | Episodes: 182 | Wins: 122 | Win rate: 1.000 | time: 86.1 seconds\n",
      "Epoch: 00182/999 | Loss: 0.0022 | Episodes: 183 | Wins: 123 | Win rate: 1.000 | time: 87.9 seconds\n",
      "Epoch: 00183/999 | Loss: 0.0022 | Episodes: 184 | Wins: 124 | Win rate: 1.000 | time: 88.4 seconds\n",
      "Reached ~100% win rate at epoch 183\n",
      "Training complete in: 89.8 seconds\n"
     ]
    }
   ],
   "execution_count": 13
  },
  {
   "metadata": {},
   "cell_type": "markdown",
   "source": "This cell will check to see if the model passes the completion check. Note: This could take several minutes."
  },
  {
   "metadata": {
    "ExecuteTime": {
     "end_time": "2025-10-19T13:26:06.502619Z",
     "start_time": "2025-10-19T13:26:05.052054Z"
    }
   },
   "cell_type": "code",
   "source": [
    "completion_check(model, qmaze)\n",
    "show(qmaze)"
   ],
   "outputs": [
    {
     "data": {
      "text/plain": [
       "<matplotlib.image.AxesImage at 0x27c53f13c50>"
      ]
     },
     "execution_count": 14,
     "metadata": {},
     "output_type": "execute_result"
    },
    {
     "data": {
      "text/plain": [
       "<Figure size 640x480 with 1 Axes>"
      ],
      "image/png": "[encoded data removed]"
     },
     "metadata": {},
     "output_type": "display_data"
    }
   ],
   "execution_count": 14
  },
  {
   "metadata": {},
   "cell_type": "markdown",
   "source": "This cell will test your model for one game. It will start the pirate at the top-left corner and run play_game. The agent should find a path from the starting position to the target (treasure). The treasure is located in the bottom-right corner."
  },
  {
   "metadata": {
    "ExecuteTime": {
     "end_time": "2025-10-19T13:26:06.606365Z",
     "start_time": "2025-10-19T13:26:06.515064Z"
    }
   },
   "cell_type": "code",
   "source": [
    "pirate_start = (0, 0)\n",
    "play_game(model, qmaze, pirate_start)\n",
    "show(qmaze)"
   ],
   "outputs": [
    {
     "data": {
      "text/plain": [
       "<matplotlib.image.AxesImage at 0x27c55f31a90>"
      ]
     },
     "execution_count": 15,
     "metadata": {},
     "output_type": "execute_result"
    },
    {
     "data": {
      "text/plain": [
       "<Figure size 640x480 with 1 Axes>"
      ],
      "image/png": "[encoded data removed]"
     },
     "metadata": {},
     "output_type": "display_data"
    }
   ],
   "execution_count": 15
  },
  {
   "metadata": {},
   "cell_type": "markdown",
   "source": [
    "## Save and Submit Your Work\n",
    "After you have finished creating the code for your notebook, save your work.\n",
    "Make sure that your notebook contains your name in the filename (e.g. Doe_Jane_ProjectTwo.html). Download this file as an .html file clicking on ***file*** in *Jupyter Notebook*, navigating down to ***Download as*** and clicking on ***.html***.\n",
    "Download a copy of your .html file and submit it to Brightspace."
   ]
  },
  {
   "metadata": {
    "ExecuteTime": {
     "end_time": "2025-10-19T13:26:06.702415Z",
     "start_time": "2025-10-19T13:26:06.615380Z"
    }
   },
   "cell_type": "code",
   "source": [
    "# fresh maze for a single run\n",
    "qv = TreasureMaze(maze)\n",
    "\n",
    "pirate_start = (0, 0)  # or any free cell\n",
    "won = play_game(model, qv, pirate_start, max_steps=qv.maze.size*4)\n",
    "print(\"Won?\", won)\n",
    "\n",
    "show(qv)  # <-- now shows the final pirate cell and visited path"
   ],
   "outputs": [
    {
     "name": "stdout",
     "output_type": "stream",
     "text": [
      "Won? True\n"
     ]
    },
    {
     "data": {
      "text/plain": [
       "<matplotlib.image.AxesImage at 0x27c55f9b890>"
      ]
     },
     "execution_count": 16,
     "metadata": {},
     "output_type": "execute_result"
    },
    {
     "data": {
      "text/plain": [
       "<Figure size 640x480 with 1 Axes>"
      ],
      "image/png": "[encoded data removed]"
     },
     "metadata": {},
     "output_type": "display_data"
    }
   ],
   "execution_count": 16
  },
  {
   "metadata": {
    "ExecuteTime": {
     "end_time": "2025-10-19T13:26:06.796354Z",
     "start_time": "2025-10-19T13:26:06.715922Z"
    }
   },
   "cell_type": "code",
   "source": [
    "# Double checking\n",
    "qv = TreasureMaze(maze)\n",
    "\n",
    "pirate_start = (0, 0)\n",
    "won = play_game(model, qv, pirate_start, max_steps=qv.maze.size*4)\n",
    "print(\"Won?\", won)\n",
    "\n",
    "show(qv)\n"
   ],
   "outputs": [
    {
     "name": "stdout",
     "output_type": "stream",
     "text": [
      "Won? True\n"
     ]
    },
    {
     "data": {
      "text/plain": [
       "<matplotlib.image.AxesImage at 0x27c561656d0>"
      ]
     },
     "execution_count": 17,
     "metadata": {},
     "output_type": "execute_result"
    },
    {
     "data": {
      "text/plain": [
       "<Figure size 640x480 with 1 Axes>"
      ],
      "image/png": "[encoded data removed]"
     },
     "metadata": {},
     "output_type": "display_data"
    }
   ],
   "execution_count": 17
  },
  {
   "cell_type": "code",
   "metadata": {
    "ExecuteTime": {
     "end_time": "2025-10-19T13:26:06.812800Z",
     "start_time": "2025-10-19T13:26:06.811141Z"
    }
   },
   "source": [],
   "outputs": [],
   "execution_count": null
  },
  {
   "cell_type": "code",
   "metadata": {
    "ExecuteTime": {
     "end_time": "2025-10-19T13:26:06.819065Z",
     "start_time": "2025-10-19T13:26:06.817943Z"
    }
   },
   "source": [],
   "outputs": [],
   "execution_count": null
  },
  {
   "cell_type": "code",
   "metadata": {
    "ExecuteTime": {
     "end_time": "2025-10-19T13:26:06.825965Z",
     "start_time": "2025-10-19T13:26:06.824560Z"
    }
   },
   "source": [],
   "outputs": [],
   "execution_count": null
  }
 ],
 "metadata": {
  "kernelspec": {
   "display_name": "Python 3 (ipykernel)",
   "language": "python",
   "name": "python3"
  },
  "language_info": {
   "codemirror_mode": {
    "name": "ipython",
    "version": 3
   },
   "file_extension": ".py",
   "mimetype": "text/x-python",
   "name": "python",
   "nbconvert_exporter": "python",
   "pygments_lexer": "ipython3",
   "version": "3.11.2"
  }
 },
 "nbformat": 4,
 "nbformat_minor": 2
}
